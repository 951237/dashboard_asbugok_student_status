{
 "cells": [
  {
   "cell_type": "code",
   "execution_count": 7,
   "id": "21e789ab",
   "metadata": {},
   "outputs": [],
   "source": [
    "import os\n",
    "import pandas as pd\n",
    "import plotly.express as px\n",
    "import streamlit as st\n",
    "import matplotlib.pyplot as plt\n",
    "import numpy as np"
   ]
  },
  {
   "cell_type": "code",
   "execution_count": 2,
   "id": "3ae1afa4",
   "metadata": {},
   "outputs": [],
   "source": [
    "# 폴더내에 \n",
    "def read_xlsx_files():\n",
    "\tpath = \"./data\"\n",
    "\tfile_list = os.listdir(path)\n",
    "\tlst_xlsx = [file for file in file_list if file.endswith(\".xlsx\")]\n",
    "\treturn lst_xlsx\n",
    "\t\n",
    "\n",
    "\n",
    "# 데이터 파일 불러오기 및 전처리\n",
    "def get_excelfile(p_file):\n",
    "\tdf = pd.read_excel(\n",
    "\t\tio = f'./data/{p_file}',\n",
    "\t\tengine=\"openpyxl\",\n",
    "\t\tsheet_name=\"실시간 학생수\",\n",
    "\t\tskiprows=1,\n",
    "\t\tusecols=\"A:D\",\n",
    "\t\tnrows=39\n",
    "\t)\n",
    "\n",
    "\t# '반'칼럼 nan값 삭제\n",
    "\tdf = df.dropna(axis=0, subset=['반'])\n",
    "\n",
    "\t# 이덱스 리셋\n",
    "\tdf = df.reset_index(drop='INDEX')\n",
    "\n",
    "    # 인원 합계\n",
    "\tdf['합계'] = df['남'] + df['여']\n",
    "\treturn df\n",
    "\n",
    "lst_xlsx = read_xlsx_files()"
   ]
  },
  {
   "cell_type": "code",
   "execution_count": 3,
   "id": "6cdc8e4a",
   "metadata": {},
   "outputs": [
    {
     "data": {
      "text/plain": [
       "['220823.xlsx', '220820.xlsx', '220831.xlsx', '220919.xlsx']"
      ]
     },
     "execution_count": 3,
     "metadata": {},
     "output_type": "execute_result"
    }
   ],
   "source": [
    "lst_xlsx"
   ]
  },
  {
   "cell_type": "code",
   "execution_count": 39,
   "id": "1593924a",
   "metadata": {},
   "outputs": [],
   "source": [
    "df = get_excelfile('220823.xlsx').ffill()\n"
   ]
  },
  {
   "cell_type": "code",
   "execution_count": 24,
   "id": "b54756d9",
   "metadata": {},
   "outputs": [
    {
     "data": {
      "text/html": [
       "<div>\n",
       "<style scoped>\n",
       "    .dataframe tbody tr th:only-of-type {\n",
       "        vertical-align: middle;\n",
       "    }\n",
       "\n",
       "    .dataframe tbody tr th {\n",
       "        vertical-align: top;\n",
       "    }\n",
       "\n",
       "    .dataframe thead th {\n",
       "        text-align: right;\n",
       "    }\n",
       "</style>\n",
       "<table border=\"1\" class=\"dataframe\">\n",
       "  <thead>\n",
       "    <tr style=\"text-align: right;\">\n",
       "      <th></th>\n",
       "      <th>학년</th>\n",
       "      <th>반</th>\n",
       "      <th>남</th>\n",
       "      <th>여</th>\n",
       "      <th>합계</th>\n",
       "    </tr>\n",
       "  </thead>\n",
       "  <tbody>\n",
       "    <tr>\n",
       "      <th>0</th>\n",
       "      <td>1학년</td>\n",
       "      <td>1반</td>\n",
       "      <td>12</td>\n",
       "      <td>10</td>\n",
       "      <td>22</td>\n",
       "    </tr>\n",
       "    <tr>\n",
       "      <th>1</th>\n",
       "      <td>1학년</td>\n",
       "      <td>2반</td>\n",
       "      <td>12</td>\n",
       "      <td>13</td>\n",
       "      <td>25</td>\n",
       "    </tr>\n",
       "    <tr>\n",
       "      <th>2</th>\n",
       "      <td>1학년</td>\n",
       "      <td>3반</td>\n",
       "      <td>13</td>\n",
       "      <td>12</td>\n",
       "      <td>25</td>\n",
       "    </tr>\n",
       "    <tr>\n",
       "      <th>3</th>\n",
       "      <td>1학년</td>\n",
       "      <td>4반</td>\n",
       "      <td>13</td>\n",
       "      <td>12</td>\n",
       "      <td>25</td>\n",
       "    </tr>\n",
       "    <tr>\n",
       "      <th>4</th>\n",
       "      <td>1학년</td>\n",
       "      <td>5반</td>\n",
       "      <td>11</td>\n",
       "      <td>13</td>\n",
       "      <td>24</td>\n",
       "    </tr>\n",
       "  </tbody>\n",
       "</table>\n",
       "</div>"
      ],
      "text/plain": [
       "    학년   반   남   여  합계\n",
       "0  1학년  1반  12  10  22\n",
       "1  1학년  2반  12  13  25\n",
       "2  1학년  3반  13  12  25\n",
       "3  1학년  4반  13  12  25\n",
       "4  1학년  5반  11  13  24"
      ]
     },
     "execution_count": 24,
     "metadata": {},
     "output_type": "execute_result"
    }
   ],
   "source": [
    "df.head()"
   ]
  },
  {
   "cell_type": "markdown",
   "id": "f399490e",
   "metadata": {},
   "source": [
    "## 220928_파일의 학년별 합계를 라인그래프로 나타내기\n",
    "- 파일 읽어오기\n",
    "- 데이터 프레임으로 변환\n",
    "- groupby로 학년별 합계 모으기(리스트)\n",
    "- 리스트를 데이터 프레임으로 만들기\n",
    "- 라인 그래프로 표현하기"
   ]
  },
  {
   "cell_type": "code",
   "execution_count": 25,
   "id": "7ff83109",
   "metadata": {},
   "outputs": [],
   "source": [
    "lst_xlsx = read_xlsx_files()"
   ]
  },
  {
   "cell_type": "code",
   "execution_count": 26,
   "id": "e4e027d3",
   "metadata": {},
   "outputs": [
    {
     "data": {
      "text/plain": [
       "['220823.xlsx', '220820.xlsx', '220831.xlsx', '220919.xlsx']"
      ]
     },
     "execution_count": 26,
     "metadata": {},
     "output_type": "execute_result"
    }
   ],
   "source": [
    "lst_xlsx"
   ]
  },
  {
   "cell_type": "code",
   "execution_count": 46,
   "id": "8e5e0297",
   "metadata": {},
   "outputs": [
    {
     "data": {
      "text/html": [
       "<div>\n",
       "<style scoped>\n",
       "    .dataframe tbody tr th:only-of-type {\n",
       "        vertical-align: middle;\n",
       "    }\n",
       "\n",
       "    .dataframe tbody tr th {\n",
       "        vertical-align: top;\n",
       "    }\n",
       "\n",
       "    .dataframe thead th {\n",
       "        text-align: right;\n",
       "    }\n",
       "</style>\n",
       "<table border=\"1\" class=\"dataframe\">\n",
       "  <thead>\n",
       "    <tr style=\"text-align: right;\">\n",
       "      <th>학년</th>\n",
       "      <th>1학년</th>\n",
       "      <th>2학년</th>\n",
       "      <th>3학년</th>\n",
       "      <th>4학년</th>\n",
       "      <th>5학년</th>\n",
       "      <th>6학년</th>\n",
       "    </tr>\n",
       "  </thead>\n",
       "  <tbody>\n",
       "    <tr>\n",
       "      <th>0</th>\n",
       "      <td>121</td>\n",
       "      <td>100</td>\n",
       "      <td>118</td>\n",
       "      <td>144</td>\n",
       "      <td>138</td>\n",
       "      <td>137</td>\n",
       "    </tr>\n",
       "  </tbody>\n",
       "</table>\n",
       "</div>"
      ],
      "text/plain": [
       "학년  1학년  2학년  3학년  4학년  5학년  6학년\n",
       "0   121  100  118  144  138  137"
      ]
     },
     "execution_count": 46,
     "metadata": {},
     "output_type": "execute_result"
    }
   ],
   "source": [
    "FILE_SRC = '220823.xlsx'\n",
    "df = get_excelfile(FILE_SRC).ffill()\n",
    "\n",
    "df_0927 = df[['학년', '합계']]\n",
    "t_0927 = df_0927.groupby('학년').sum()\n",
    "test_t = t_0927.T.reset_index()\n",
    "test_t = test_t[['1학년', '2학년', '3학년', '4학년', '5학년', '6학년']]\n",
    "test_t.name = None\n",
    "test_t"
   ]
  },
  {
   "cell_type": "code",
   "execution_count": 47,
   "id": "448101a3",
   "metadata": {},
   "outputs": [
    {
     "name": "stdout",
     "output_type": "stream",
     "text": [
      "<class 'pandas.core.frame.DataFrame'>\n",
      "RangeIndex: 1 entries, 0 to 0\n",
      "Data columns (total 6 columns):\n",
      " #   Column  Non-Null Count  Dtype\n",
      "---  ------  --------------  -----\n",
      " 0   1학년     1 non-null      int64\n",
      " 1   2학년     1 non-null      int64\n",
      " 2   3학년     1 non-null      int64\n",
      " 3   4학년     1 non-null      int64\n",
      " 4   5학년     1 non-null      int64\n",
      " 5   6학년     1 non-null      int64\n",
      "dtypes: int64(6)\n",
      "memory usage: 176.0 bytes\n"
     ]
    }
   ],
   "source": [
    "test_t.info()"
   ]
  },
  {
   "cell_type": "code",
   "execution_count": 37,
   "id": "8b25f96c",
   "metadata": {},
   "outputs": [
    {
     "data": {
      "text/html": [
       "<div>\n",
       "<style scoped>\n",
       "    .dataframe tbody tr th:only-of-type {\n",
       "        vertical-align: middle;\n",
       "    }\n",
       "\n",
       "    .dataframe tbody tr th {\n",
       "        vertical-align: top;\n",
       "    }\n",
       "\n",
       "    .dataframe thead th {\n",
       "        text-align: right;\n",
       "    }\n",
       "</style>\n",
       "<table border=\"1\" class=\"dataframe\">\n",
       "  <thead>\n",
       "    <tr style=\"text-align: right;\">\n",
       "      <th>학년</th>\n",
       "      <th>index</th>\n",
       "      <th>1학년</th>\n",
       "      <th>2학년</th>\n",
       "      <th>3학년</th>\n",
       "      <th>4학년</th>\n",
       "      <th>5학년</th>\n",
       "      <th>6학년</th>\n",
       "    </tr>\n",
       "  </thead>\n",
       "  <tbody>\n",
       "    <tr>\n",
       "      <th>0</th>\n",
       "      <td>0</td>\n",
       "      <td>121</td>\n",
       "      <td>100</td>\n",
       "      <td>118</td>\n",
       "      <td>144</td>\n",
       "      <td>138</td>\n",
       "      <td>137</td>\n",
       "    </tr>\n",
       "  </tbody>\n",
       "</table>\n",
       "</div>"
      ],
      "text/plain": [
       "학년  index  1학년  2학년  3학년  4학년  5학년  6학년\n",
       "0       0  121  100  118  144  138  137"
      ]
     },
     "execution_count": 37,
     "metadata": {},
     "output_type": "execute_result"
    }
   ],
   "source": [
    "test_t.reset_index()"
   ]
  },
  {
   "cell_type": "code",
   "execution_count": 60,
   "id": "f1a881f3",
   "metadata": {},
   "outputs": [
    {
     "name": "stdout",
     "output_type": "stream",
     "text": [
      "220823\n",
      "220820\n",
      "220831\n",
      "220919\n"
     ]
    }
   ],
   "source": [
    "for i in lst_xlsx:\n",
    "    print(i.split('.')[0])"
   ]
  },
  {
   "cell_type": "code",
   "execution_count": 62,
   "id": "e638392c",
   "metadata": {},
   "outputs": [],
   "source": [
    "def make_list_by_date(p_file):\n",
    "    name_date = p_file.split('.')[0]\n",
    "    df = get_excelfile(p_file).ffill()\n",
    "\n",
    "    df_0927 = df[['학년', '합계']]\n",
    "    t_0927 = df_0927.groupby('학년').sum()\n",
    "    test_t = t_0927.T.reset_index()\n",
    "    test_t = test_t[['1학년', '2학년', '3학년', '4학년', '5학년', '6학년']]\n",
    "    return test_t, name_date"
   ]
  },
  {
   "cell_type": "code",
   "execution_count": 102,
   "id": "9cd628f6",
   "metadata": {},
   "outputs": [
    {
     "data": {
      "text/html": [
       "<div>\n",
       "<style scoped>\n",
       "    .dataframe tbody tr th:only-of-type {\n",
       "        vertical-align: middle;\n",
       "    }\n",
       "\n",
       "    .dataframe tbody tr th {\n",
       "        vertical-align: top;\n",
       "    }\n",
       "\n",
       "    .dataframe thead th {\n",
       "        text-align: right;\n",
       "    }\n",
       "</style>\n",
       "<table border=\"1\" class=\"dataframe\">\n",
       "  <thead>\n",
       "    <tr style=\"text-align: right;\">\n",
       "      <th></th>\n",
       "      <th>1학년</th>\n",
       "      <th>2학년</th>\n",
       "      <th>3학년</th>\n",
       "      <th>4학년</th>\n",
       "      <th>5학년</th>\n",
       "      <th>6학년</th>\n",
       "    </tr>\n",
       "    <tr>\n",
       "      <th>날짜</th>\n",
       "      <th></th>\n",
       "      <th></th>\n",
       "      <th></th>\n",
       "      <th></th>\n",
       "      <th></th>\n",
       "      <th></th>\n",
       "    </tr>\n",
       "  </thead>\n",
       "  <tbody>\n",
       "    <tr>\n",
       "      <th>220823</th>\n",
       "      <td>121</td>\n",
       "      <td>100</td>\n",
       "      <td>118</td>\n",
       "      <td>144</td>\n",
       "      <td>138</td>\n",
       "      <td>137</td>\n",
       "    </tr>\n",
       "    <tr>\n",
       "      <th>220820</th>\n",
       "      <td>119</td>\n",
       "      <td>100</td>\n",
       "      <td>118</td>\n",
       "      <td>143</td>\n",
       "      <td>137</td>\n",
       "      <td>136</td>\n",
       "    </tr>\n",
       "    <tr>\n",
       "      <th>220831</th>\n",
       "      <td>121</td>\n",
       "      <td>99</td>\n",
       "      <td>117</td>\n",
       "      <td>144</td>\n",
       "      <td>138</td>\n",
       "      <td>138</td>\n",
       "    </tr>\n",
       "    <tr>\n",
       "      <th>220919</th>\n",
       "      <td>122</td>\n",
       "      <td>99</td>\n",
       "      <td>118</td>\n",
       "      <td>144</td>\n",
       "      <td>139</td>\n",
       "      <td>140</td>\n",
       "    </tr>\n",
       "  </tbody>\n",
       "</table>\n",
       "</div>"
      ],
      "text/plain": [
       "        1학년  2학년  3학년  4학년  5학년  6학년\n",
       "날짜                                  \n",
       "220823  121  100  118  144  138  137\n",
       "220820  119  100  118  143  137  136\n",
       "220831  121   99  117  144  138  138\n",
       "220919  122   99  118  144  139  140"
      ]
     },
     "execution_count": 102,
     "metadata": {},
     "output_type": "execute_result"
    }
   ],
   "source": [
    "result = []\n",
    "lst_date = []\n",
    "for i in lst_xlsx:\n",
    "    df, name_date = make_list_by_date(i)\n",
    "    result.append(df)\n",
    "    lst_date.append(name_date)\n",
    "df_result = pd.concat(result)\n",
    "df_result['날짜'] = lst_date\n",
    "df_result.columns.name = None\n",
    "df_result = df_result.set_index('날짜')\n",
    "df_result"
   ]
  },
  {
   "cell_type": "code",
   "execution_count": 103,
   "id": "96ab8d33",
   "metadata": {},
   "outputs": [
    {
     "data": {
      "text/plain": [
       "DeltaGenerator(_root_container=0, _provided_cursor=None, _parent=None, _block_type=None, _form_data=None)"
      ]
     },
     "execution_count": 103,
     "metadata": {},
     "output_type": "execute_result"
    }
   ],
   "source": [
    "st.line_chart(df_result)"
   ]
  },
  {
   "cell_type": "code",
   "execution_count": 93,
   "id": "f19dad5f",
   "metadata": {},
   "outputs": [],
   "source": [
    "df_result.columns.name = None\n",
    "\n",
    "df_result.set_index('날짜').reset_index()"
   ]
  },
  {
   "cell_type": "code",
   "execution_count": 76,
   "id": "fb9c08e7",
   "metadata": {},
   "outputs": [],
   "source": [
    "df_result = df_result.set_index(['날짜'])"
   ]
  },
  {
   "cell_type": "code",
   "execution_count": 77,
   "id": "d6df9770",
   "metadata": {},
   "outputs": [
    {
     "data": {
      "text/plain": [
       "DeltaGenerator(_root_container=0, _provided_cursor=None, _parent=None, _block_type=None, _form_data=None)"
      ]
     },
     "execution_count": 77,
     "metadata": {},
     "output_type": "execute_result"
    }
   ],
   "source": [
    "st.line_chart(df_result)"
   ]
  },
  {
   "cell_type": "markdown",
   "id": "fa1df289",
   "metadata": {},
   "source": [
    "## 이전 작업"
   ]
  },
  {
   "cell_type": "code",
   "execution_count": 37,
   "id": "2d7a1dd5",
   "metadata": {},
   "outputs": [
    {
     "data": {
      "text/html": [
       "<div>\n",
       "<style scoped>\n",
       "    .dataframe tbody tr th:only-of-type {\n",
       "        vertical-align: middle;\n",
       "    }\n",
       "\n",
       "    .dataframe tbody tr th {\n",
       "        vertical-align: top;\n",
       "    }\n",
       "\n",
       "    .dataframe thead th {\n",
       "        text-align: right;\n",
       "    }\n",
       "</style>\n",
       "<table border=\"1\" class=\"dataframe\">\n",
       "  <thead>\n",
       "    <tr style=\"text-align: right;\">\n",
       "      <th></th>\n",
       "      <th>성별</th>\n",
       "      <th>1학년</th>\n",
       "      <th>2학년</th>\n",
       "      <th>3학년</th>\n",
       "      <th>4학년</th>\n",
       "      <th>5학년</th>\n",
       "      <th>6학년</th>\n",
       "      <th>합계</th>\n",
       "    </tr>\n",
       "  </thead>\n",
       "  <tbody>\n",
       "    <tr>\n",
       "      <th>0</th>\n",
       "      <td>남</td>\n",
       "      <td>61</td>\n",
       "      <td>55</td>\n",
       "      <td>64</td>\n",
       "      <td>77</td>\n",
       "      <td>72</td>\n",
       "      <td>76</td>\n",
       "      <td>405</td>\n",
       "    </tr>\n",
       "    <tr>\n",
       "      <th>1</th>\n",
       "      <td>여</td>\n",
       "      <td>60</td>\n",
       "      <td>45</td>\n",
       "      <td>54</td>\n",
       "      <td>67</td>\n",
       "      <td>66</td>\n",
       "      <td>61</td>\n",
       "      <td>353</td>\n",
       "    </tr>\n",
       "  </tbody>\n",
       "</table>\n",
       "</div>"
      ],
      "text/plain": [
       "  성별  1학년  2학년  3학년  4학년  5학년  6학년   합계\n",
       "0  남   61   55   64   77   72   76  405\n",
       "1  여   60   45   54   67   66   61  353"
      ]
     },
     "execution_count": 37,
     "metadata": {},
     "output_type": "execute_result"
    }
   ],
   "source": [
    "test = df.groupby('학년').sum()\n",
    "\n",
    "test_t = test.T.reset_index()\n",
    "test_t.columns = ['성별', '1학년', '2학년', '3학년', '4학년', '5학년', '6학년']\n",
    "test_t = test_t.drop(index=2)\n",
    "\n",
    "col_list = list(test_t)\n",
    "col_list.remove('성별')\n",
    "test_t['합계'] = test_t[col_list].sum(axis=1)\n",
    "test_t"
   ]
  },
  {
   "cell_type": "code",
   "execution_count": 39,
   "id": "baf6d308",
   "metadata": {},
   "outputs": [
    {
     "data": {
      "text/html": [
       "<div>\n",
       "<style scoped>\n",
       "    .dataframe tbody tr th:only-of-type {\n",
       "        vertical-align: middle;\n",
       "    }\n",
       "\n",
       "    .dataframe tbody tr th {\n",
       "        vertical-align: top;\n",
       "    }\n",
       "\n",
       "    .dataframe thead th {\n",
       "        text-align: right;\n",
       "    }\n",
       "</style>\n",
       "<table border=\"1\" class=\"dataframe\">\n",
       "  <thead>\n",
       "    <tr style=\"text-align: right;\">\n",
       "      <th></th>\n",
       "      <th>성별</th>\n",
       "      <th>합계</th>\n",
       "    </tr>\n",
       "  </thead>\n",
       "  <tbody>\n",
       "    <tr>\n",
       "      <th>0</th>\n",
       "      <td>남</td>\n",
       "      <td>405</td>\n",
       "    </tr>\n",
       "    <tr>\n",
       "      <th>1</th>\n",
       "      <td>여</td>\n",
       "      <td>353</td>\n",
       "    </tr>\n",
       "  </tbody>\n",
       "</table>\n",
       "</div>"
      ],
      "text/plain": [
       "  성별   합계\n",
       "0  남  405\n",
       "1  여  353"
      ]
     },
     "execution_count": 39,
     "metadata": {},
     "output_type": "execute_result"
    }
   ],
   "source": [
    "test_t[['성별','합계']]"
   ]
  },
  {
   "cell_type": "code",
   "execution_count": 40,
   "id": "76c8a7cc",
   "metadata": {},
   "outputs": [
    {
     "data": {
      "text/html": [
       "<div>\n",
       "<style scoped>\n",
       "    .dataframe tbody tr th:only-of-type {\n",
       "        vertical-align: middle;\n",
       "    }\n",
       "\n",
       "    .dataframe tbody tr th {\n",
       "        vertical-align: top;\n",
       "    }\n",
       "\n",
       "    .dataframe thead th {\n",
       "        text-align: right;\n",
       "    }\n",
       "</style>\n",
       "<table border=\"1\" class=\"dataframe\">\n",
       "  <thead>\n",
       "    <tr style=\"text-align: right;\">\n",
       "      <th></th>\n",
       "      <th>성별</th>\n",
       "      <th>1학년</th>\n",
       "      <th>2학년</th>\n",
       "      <th>3학년</th>\n",
       "      <th>4학년</th>\n",
       "      <th>5학년</th>\n",
       "      <th>6학년</th>\n",
       "      <th>합계</th>\n",
       "    </tr>\n",
       "  </thead>\n",
       "  <tbody>\n",
       "    <tr>\n",
       "      <th>0</th>\n",
       "      <td>남</td>\n",
       "      <td>61</td>\n",
       "      <td>55</td>\n",
       "      <td>64</td>\n",
       "      <td>77</td>\n",
       "      <td>72</td>\n",
       "      <td>76</td>\n",
       "      <td>405</td>\n",
       "    </tr>\n",
       "    <tr>\n",
       "      <th>1</th>\n",
       "      <td>여</td>\n",
       "      <td>60</td>\n",
       "      <td>45</td>\n",
       "      <td>54</td>\n",
       "      <td>67</td>\n",
       "      <td>66</td>\n",
       "      <td>61</td>\n",
       "      <td>353</td>\n",
       "    </tr>\n",
       "  </tbody>\n",
       "</table>\n",
       "</div>"
      ],
      "text/plain": [
       "  성별  1학년  2학년  3학년  4학년  5학년  6학년   합계\n",
       "0  남   61   55   64   77   72   76  405\n",
       "1  여   60   45   54   67   66   61  353"
      ]
     },
     "execution_count": 40,
     "metadata": {},
     "output_type": "execute_result"
    }
   ],
   "source": [
    "test_t"
   ]
  },
  {
   "cell_type": "markdown",
   "id": "364257b5",
   "metadata": {},
   "source": [
    "## 1,2학년 현황 만들기"
   ]
  },
  {
   "cell_type": "code",
   "execution_count": 13,
   "id": "5e1517fa",
   "metadata": {},
   "outputs": [
    {
     "data": {
      "text/html": [
       "<div>\n",
       "<style scoped>\n",
       "    .dataframe tbody tr th:only-of-type {\n",
       "        vertical-align: middle;\n",
       "    }\n",
       "\n",
       "    .dataframe tbody tr th {\n",
       "        vertical-align: top;\n",
       "    }\n",
       "\n",
       "    .dataframe thead th {\n",
       "        text-align: right;\n",
       "    }\n",
       "</style>\n",
       "<table border=\"1\" class=\"dataframe\">\n",
       "  <thead>\n",
       "    <tr style=\"text-align: right;\">\n",
       "      <th></th>\n",
       "      <th>학년</th>\n",
       "      <th>반</th>\n",
       "      <th>남</th>\n",
       "      <th>여</th>\n",
       "      <th>합계</th>\n",
       "    </tr>\n",
       "  </thead>\n",
       "  <tbody>\n",
       "    <tr>\n",
       "      <th>0</th>\n",
       "      <td>1학년</td>\n",
       "      <td>1반</td>\n",
       "      <td>12</td>\n",
       "      <td>10</td>\n",
       "      <td>22</td>\n",
       "    </tr>\n",
       "    <tr>\n",
       "      <th>1</th>\n",
       "      <td>1학년</td>\n",
       "      <td>2반</td>\n",
       "      <td>12</td>\n",
       "      <td>13</td>\n",
       "      <td>25</td>\n",
       "    </tr>\n",
       "    <tr>\n",
       "      <th>2</th>\n",
       "      <td>1학년</td>\n",
       "      <td>3반</td>\n",
       "      <td>13</td>\n",
       "      <td>12</td>\n",
       "      <td>25</td>\n",
       "    </tr>\n",
       "    <tr>\n",
       "      <th>3</th>\n",
       "      <td>1학년</td>\n",
       "      <td>4반</td>\n",
       "      <td>13</td>\n",
       "      <td>12</td>\n",
       "      <td>25</td>\n",
       "    </tr>\n",
       "    <tr>\n",
       "      <th>4</th>\n",
       "      <td>1학년</td>\n",
       "      <td>5반</td>\n",
       "      <td>11</td>\n",
       "      <td>13</td>\n",
       "      <td>24</td>\n",
       "    </tr>\n",
       "  </tbody>\n",
       "</table>\n",
       "</div>"
      ],
      "text/plain": [
       "    학년   반   남   여  합계\n",
       "0  1학년  1반  12  10  22\n",
       "1  1학년  2반  12  13  25\n",
       "2  1학년  3반  13  12  25\n",
       "3  1학년  4반  13  12  25\n",
       "4  1학년  5반  11  13  24"
      ]
     },
     "execution_count": 13,
     "metadata": {},
     "output_type": "execute_result"
    }
   ],
   "source": [
    "df.head()"
   ]
  },
  {
   "cell_type": "code",
   "execution_count": 19,
   "id": "f8539e81",
   "metadata": {},
   "outputs": [
    {
     "data": {
      "text/html": [
       "<div>\n",
       "<style scoped>\n",
       "    .dataframe tbody tr th:only-of-type {\n",
       "        vertical-align: middle;\n",
       "    }\n",
       "\n",
       "    .dataframe tbody tr th {\n",
       "        vertical-align: top;\n",
       "    }\n",
       "\n",
       "    .dataframe thead th {\n",
       "        text-align: right;\n",
       "    }\n",
       "</style>\n",
       "<table border=\"1\" class=\"dataframe\">\n",
       "  <thead>\n",
       "    <tr style=\"text-align: right;\">\n",
       "      <th></th>\n",
       "      <th>학년</th>\n",
       "      <th>반</th>\n",
       "      <th>남</th>\n",
       "      <th>여</th>\n",
       "      <th>합계</th>\n",
       "    </tr>\n",
       "  </thead>\n",
       "  <tbody>\n",
       "    <tr>\n",
       "      <th>0</th>\n",
       "      <td>1학년</td>\n",
       "      <td>1반</td>\n",
       "      <td>12</td>\n",
       "      <td>10</td>\n",
       "      <td>22</td>\n",
       "    </tr>\n",
       "    <tr>\n",
       "      <th>1</th>\n",
       "      <td>1학년</td>\n",
       "      <td>2반</td>\n",
       "      <td>12</td>\n",
       "      <td>13</td>\n",
       "      <td>25</td>\n",
       "    </tr>\n",
       "    <tr>\n",
       "      <th>2</th>\n",
       "      <td>1학년</td>\n",
       "      <td>3반</td>\n",
       "      <td>13</td>\n",
       "      <td>12</td>\n",
       "      <td>25</td>\n",
       "    </tr>\n",
       "    <tr>\n",
       "      <th>3</th>\n",
       "      <td>1학년</td>\n",
       "      <td>4반</td>\n",
       "      <td>13</td>\n",
       "      <td>12</td>\n",
       "      <td>25</td>\n",
       "    </tr>\n",
       "    <tr>\n",
       "      <th>4</th>\n",
       "      <td>1학년</td>\n",
       "      <td>5반</td>\n",
       "      <td>11</td>\n",
       "      <td>13</td>\n",
       "      <td>24</td>\n",
       "    </tr>\n",
       "  </tbody>\n",
       "</table>\n",
       "</div>"
      ],
      "text/plain": [
       "    학년   반   남   여  합계\n",
       "0  1학년  1반  12  10  22\n",
       "1  1학년  2반  12  13  25\n",
       "2  1학년  3반  13  12  25\n",
       "3  1학년  4반  13  12  25\n",
       "4  1학년  5반  11  13  24"
      ]
     },
     "execution_count": 19,
     "metadata": {},
     "output_type": "execute_result"
    }
   ],
   "source": [
    "str_expr = \"학년 == '1학년'\"\n",
    "df_1gr = df.query(str_expr)\n",
    "df_1gr"
   ]
  },
  {
   "cell_type": "code",
   "execution_count": 24,
   "id": "1b4666cf",
   "metadata": {},
   "outputs": [],
   "source": [
    "test = df_1gr[['반','합계']]"
   ]
  },
  {
   "cell_type": "code",
   "execution_count": null,
   "id": "34f4fa10",
   "metadata": {},
   "outputs": [],
   "source": [
    "test = df.groupby('학년').sum()\n",
    "\n",
    "test_t = test.T.reset_index()\n",
    "test_t.columns = ['성별', '1학년', '2학년', '3학년', '4학년', '5학년', '6학년']\n",
    "test_t = test_t.drop(index=2)\n",
    "\n",
    "col_list = list(test_t)\n",
    "col_list.remove('성별')\n",
    "test_t['합계'] = test_t[col_list].sum(axis=1)\n",
    "test_t"
   ]
  },
  {
   "cell_type": "code",
   "execution_count": 13,
   "id": "699c19a6",
   "metadata": {},
   "outputs": [
    {
     "data": {
      "text/html": [
       "<div>\n",
       "<style scoped>\n",
       "    .dataframe tbody tr th:only-of-type {\n",
       "        vertical-align: middle;\n",
       "    }\n",
       "\n",
       "    .dataframe tbody tr th {\n",
       "        vertical-align: top;\n",
       "    }\n",
       "\n",
       "    .dataframe thead th {\n",
       "        text-align: right;\n",
       "    }\n",
       "</style>\n",
       "<table border=\"1\" class=\"dataframe\">\n",
       "  <thead>\n",
       "    <tr style=\"text-align: right;\">\n",
       "      <th></th>\n",
       "      <th>학년</th>\n",
       "      <th>반</th>\n",
       "      <th>남</th>\n",
       "      <th>여</th>\n",
       "      <th>합계</th>\n",
       "    </tr>\n",
       "  </thead>\n",
       "  <tbody>\n",
       "    <tr>\n",
       "      <th>0</th>\n",
       "      <td>1학년</td>\n",
       "      <td>1반</td>\n",
       "      <td>12</td>\n",
       "      <td>10</td>\n",
       "      <td>22</td>\n",
       "    </tr>\n",
       "    <tr>\n",
       "      <th>1</th>\n",
       "      <td>1학년</td>\n",
       "      <td>2반</td>\n",
       "      <td>12</td>\n",
       "      <td>13</td>\n",
       "      <td>25</td>\n",
       "    </tr>\n",
       "    <tr>\n",
       "      <th>2</th>\n",
       "      <td>1학년</td>\n",
       "      <td>3반</td>\n",
       "      <td>13</td>\n",
       "      <td>12</td>\n",
       "      <td>25</td>\n",
       "    </tr>\n",
       "    <tr>\n",
       "      <th>3</th>\n",
       "      <td>1학년</td>\n",
       "      <td>4반</td>\n",
       "      <td>13</td>\n",
       "      <td>12</td>\n",
       "      <td>25</td>\n",
       "    </tr>\n",
       "    <tr>\n",
       "      <th>4</th>\n",
       "      <td>1학년</td>\n",
       "      <td>5반</td>\n",
       "      <td>11</td>\n",
       "      <td>13</td>\n",
       "      <td>24</td>\n",
       "    </tr>\n",
       "  </tbody>\n",
       "</table>\n",
       "</div>"
      ],
      "text/plain": [
       "    학년   반   남   여  합계\n",
       "0  1학년  1반  12  10  22\n",
       "1  1학년  2반  12  13  25\n",
       "2  1학년  3반  13  12  25\n",
       "3  1학년  4반  13  12  25\n",
       "4  1학년  5반  11  13  24"
      ]
     },
     "execution_count": 13,
     "metadata": {},
     "output_type": "execute_result"
    }
   ],
   "source": [
    "df.head()"
   ]
  },
  {
   "cell_type": "code",
   "execution_count": 23,
   "id": "faa78e0f",
   "metadata": {},
   "outputs": [
    {
     "data": {
      "text/plain": [
       "Index(['1학년', '2학년', '3학년', '4학년', '5학년', '6학년'], dtype='object', name='학년')"
      ]
     },
     "execution_count": 23,
     "metadata": {},
     "output_type": "execute_result"
    }
   ],
   "source": [
    "test_t.columns"
   ]
  },
  {
   "cell_type": "code",
   "execution_count": 21,
   "id": "68a23df7",
   "metadata": {},
   "outputs": [
    {
     "data": {
      "text/plain": [
       "Index(['index', '1학년', '2학년', '3학년', '4학년', '5학년', '6학년'], dtype='object', name='학년')"
      ]
     },
     "execution_count": 21,
     "metadata": {},
     "output_type": "execute_result"
    }
   ],
   "source": [
    "test_t.columns"
   ]
  },
  {
   "cell_type": "code",
   "execution_count": 73,
   "id": "ee34261f",
   "metadata": {},
   "outputs": [
    {
     "data": {
      "text/html": [
       "<div>\n",
       "<style scoped>\n",
       "    .dataframe tbody tr th:only-of-type {\n",
       "        vertical-align: middle;\n",
       "    }\n",
       "\n",
       "    .dataframe tbody tr th {\n",
       "        vertical-align: top;\n",
       "    }\n",
       "\n",
       "    .dataframe thead th {\n",
       "        text-align: right;\n",
       "    }\n",
       "</style>\n",
       "<table border=\"1\" class=\"dataframe\">\n",
       "  <thead>\n",
       "    <tr style=\"text-align: right;\">\n",
       "      <th></th>\n",
       "      <th>a</th>\n",
       "      <th>b</th>\n",
       "      <th>c</th>\n",
       "    </tr>\n",
       "  </thead>\n",
       "  <tbody>\n",
       "    <tr>\n",
       "      <th>0</th>\n",
       "      <td>0.415287</td>\n",
       "      <td>1.252303</td>\n",
       "      <td>0.487601</td>\n",
       "    </tr>\n",
       "    <tr>\n",
       "      <th>1</th>\n",
       "      <td>0.955728</td>\n",
       "      <td>0.746735</td>\n",
       "      <td>-0.213883</td>\n",
       "    </tr>\n",
       "    <tr>\n",
       "      <th>2</th>\n",
       "      <td>-0.325175</td>\n",
       "      <td>-1.801130</td>\n",
       "      <td>0.298567</td>\n",
       "    </tr>\n",
       "    <tr>\n",
       "      <th>3</th>\n",
       "      <td>1.647392</td>\n",
       "      <td>-0.386948</td>\n",
       "      <td>-0.534729</td>\n",
       "    </tr>\n",
       "    <tr>\n",
       "      <th>4</th>\n",
       "      <td>-0.799192</td>\n",
       "      <td>0.805231</td>\n",
       "      <td>0.311832</td>\n",
       "    </tr>\n",
       "    <tr>\n",
       "      <th>5</th>\n",
       "      <td>0.753529</td>\n",
       "      <td>-0.564965</td>\n",
       "      <td>1.598073</td>\n",
       "    </tr>\n",
       "    <tr>\n",
       "      <th>6</th>\n",
       "      <td>0.314279</td>\n",
       "      <td>1.504978</td>\n",
       "      <td>1.536028</td>\n",
       "    </tr>\n",
       "    <tr>\n",
       "      <th>7</th>\n",
       "      <td>0.114740</td>\n",
       "      <td>-2.208057</td>\n",
       "      <td>-1.115367</td>\n",
       "    </tr>\n",
       "    <tr>\n",
       "      <th>8</th>\n",
       "      <td>-1.189036</td>\n",
       "      <td>-0.284718</td>\n",
       "      <td>-1.093461</td>\n",
       "    </tr>\n",
       "    <tr>\n",
       "      <th>9</th>\n",
       "      <td>1.300939</td>\n",
       "      <td>0.179993</td>\n",
       "      <td>1.936261</td>\n",
       "    </tr>\n",
       "    <tr>\n",
       "      <th>10</th>\n",
       "      <td>0.859551</td>\n",
       "      <td>0.505223</td>\n",
       "      <td>-1.396700</td>\n",
       "    </tr>\n",
       "    <tr>\n",
       "      <th>11</th>\n",
       "      <td>0.471257</td>\n",
       "      <td>0.117813</td>\n",
       "      <td>0.359022</td>\n",
       "    </tr>\n",
       "    <tr>\n",
       "      <th>12</th>\n",
       "      <td>-0.054899</td>\n",
       "      <td>1.514675</td>\n",
       "      <td>2.903818</td>\n",
       "    </tr>\n",
       "    <tr>\n",
       "      <th>13</th>\n",
       "      <td>-1.162940</td>\n",
       "      <td>-0.085909</td>\n",
       "      <td>-0.358928</td>\n",
       "    </tr>\n",
       "    <tr>\n",
       "      <th>14</th>\n",
       "      <td>2.718311</td>\n",
       "      <td>-0.661741</td>\n",
       "      <td>-0.796289</td>\n",
       "    </tr>\n",
       "    <tr>\n",
       "      <th>15</th>\n",
       "      <td>-0.281205</td>\n",
       "      <td>-0.151726</td>\n",
       "      <td>-0.226080</td>\n",
       "    </tr>\n",
       "    <tr>\n",
       "      <th>16</th>\n",
       "      <td>-2.011725</td>\n",
       "      <td>0.296582</td>\n",
       "      <td>1.916110</td>\n",
       "    </tr>\n",
       "    <tr>\n",
       "      <th>17</th>\n",
       "      <td>1.064359</td>\n",
       "      <td>0.171494</td>\n",
       "      <td>-1.551707</td>\n",
       "    </tr>\n",
       "    <tr>\n",
       "      <th>18</th>\n",
       "      <td>1.490809</td>\n",
       "      <td>-0.261053</td>\n",
       "      <td>1.074885</td>\n",
       "    </tr>\n",
       "    <tr>\n",
       "      <th>19</th>\n",
       "      <td>0.044977</td>\n",
       "      <td>0.106874</td>\n",
       "      <td>1.548531</td>\n",
       "    </tr>\n",
       "  </tbody>\n",
       "</table>\n",
       "</div>"
      ],
      "text/plain": [
       "           a         b         c\n",
       "0   0.415287  1.252303  0.487601\n",
       "1   0.955728  0.746735 -0.213883\n",
       "2  -0.325175 -1.801130  0.298567\n",
       "3   1.647392 -0.386948 -0.534729\n",
       "4  -0.799192  0.805231  0.311832\n",
       "5   0.753529 -0.564965  1.598073\n",
       "6   0.314279  1.504978  1.536028\n",
       "7   0.114740 -2.208057 -1.115367\n",
       "8  -1.189036 -0.284718 -1.093461\n",
       "9   1.300939  0.179993  1.936261\n",
       "10  0.859551  0.505223 -1.396700\n",
       "11  0.471257  0.117813  0.359022\n",
       "12 -0.054899  1.514675  2.903818\n",
       "13 -1.162940 -0.085909 -0.358928\n",
       "14  2.718311 -0.661741 -0.796289\n",
       "15 -0.281205 -0.151726 -0.226080\n",
       "16 -2.011725  0.296582  1.916110\n",
       "17  1.064359  0.171494 -1.551707\n",
       "18  1.490809 -0.261053  1.074885\n",
       "19  0.044977  0.106874  1.548531"
      ]
     },
     "execution_count": 73,
     "metadata": {},
     "output_type": "execute_result"
    }
   ],
   "source": [
    "pd.DataFrame(\n",
    "    np.random.randn(20, 3),\n",
    "    columns=['a', 'b', 'c'])"
   ]
  },
  {
   "cell_type": "code",
   "execution_count": 101,
   "id": "beefcae7",
   "metadata": {},
   "outputs": [
    {
     "data": {
      "text/plain": [
       "DeltaGenerator(_root_container=0, _provided_cursor=None, _parent=None, _block_type=None, _form_data=None)"
      ]
     },
     "execution_count": 101,
     "metadata": {},
     "output_type": "execute_result"
    }
   ],
   "source": [
    "chart_data = pd.DataFrame(\n",
    "    np.random.randn(20, 3),\n",
    "    columns=['a', 'b', 'c'])\n",
    "\n",
    "st.line_chart(chart_data)"
   ]
  },
  {
   "cell_type": "code",
   "execution_count": null,
   "id": "fee3097b",
   "metadata": {},
   "outputs": [],
   "source": []
  }
 ],
 "metadata": {
  "kernelspec": {
   "display_name": "local-streamlit-env",
   "language": "python",
   "name": "local-streamlit-env"
  },
  "language_info": {
   "codemirror_mode": {
    "name": "ipython",
    "version": 3
   },
   "file_extension": ".py",
   "mimetype": "text/x-python",
   "name": "python",
   "nbconvert_exporter": "python",
   "pygments_lexer": "ipython3",
   "version": "3.8.7"
  }
 },
 "nbformat": 4,
 "nbformat_minor": 5
}
