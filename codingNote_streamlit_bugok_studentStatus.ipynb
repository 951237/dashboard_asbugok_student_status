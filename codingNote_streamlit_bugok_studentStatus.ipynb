{
 "cells": [
  {
   "cell_type": "code",
   "execution_count": 7,
   "id": "6237d13e",
   "metadata": {},
   "outputs": [
    {
     "ename": "ModuleNotFoundError",
     "evalue": "No module named 'streamlit'",
     "output_type": "error",
     "traceback": [
      "\u001b[0;31m---------------------------------------------------------------------------\u001b[0m",
      "\u001b[0;31mModuleNotFoundError\u001b[0m                       Traceback (most recent call last)",
      "\u001b[0;32m/var/folders/_s/h62bvp5n77q48hmmd1lhrj_00000gn/T/ipykernel_68063/1465255517.py\u001b[0m in \u001b[0;36m<module>\u001b[0;34m\u001b[0m\n\u001b[1;32m      2\u001b[0m \u001b[0;32mimport\u001b[0m \u001b[0mpandas\u001b[0m \u001b[0;32mas\u001b[0m \u001b[0mpd\u001b[0m\u001b[0;34m\u001b[0m\u001b[0;34m\u001b[0m\u001b[0m\n\u001b[1;32m      3\u001b[0m \u001b[0;32mimport\u001b[0m \u001b[0mplotly\u001b[0m\u001b[0;34m.\u001b[0m\u001b[0mexpress\u001b[0m \u001b[0;32mas\u001b[0m \u001b[0mpx\u001b[0m\u001b[0;34m\u001b[0m\u001b[0;34m\u001b[0m\u001b[0m\n\u001b[0;32m----> 4\u001b[0;31m \u001b[0;32mimport\u001b[0m \u001b[0mstreamlit\u001b[0m \u001b[0;32mas\u001b[0m \u001b[0mst\u001b[0m\u001b[0;34m\u001b[0m\u001b[0;34m\u001b[0m\u001b[0m\n\u001b[0m\u001b[1;32m      5\u001b[0m \u001b[0;32mimport\u001b[0m \u001b[0mmatplotlib\u001b[0m\u001b[0;34m.\u001b[0m\u001b[0mpyplot\u001b[0m \u001b[0;32mas\u001b[0m \u001b[0mplt\u001b[0m\u001b[0;34m\u001b[0m\u001b[0;34m\u001b[0m\u001b[0m\n",
      "\u001b[0;31mModuleNotFoundError\u001b[0m: No module named 'streamlit'"
     ]
    }
   ],
   "source": [
    "import os\n",
    "import pandas as pd\n",
    "import plotly.express as px\n",
    "import streamlit as st\n",
    "import matplotlib.pyplot as plt"
   ]
  },
  {
   "cell_type": "code",
   "execution_count": 10,
   "id": "6078a438",
   "metadata": {},
   "outputs": [],
   "source": [
    "# 폴더내에 \n",
    "def read_xlsx_files():\n",
    "\tpath = \"./data\"\n",
    "\tfile_list = os.listdir(path)\n",
    "\tlst_xlsx = [file for file in file_list if file.endswith(\".xlsx\")]\n",
    "\treturn lst_xlsx\n",
    "\t\n",
    "\n",
    "\n",
    "# 데이터 파일 불러오기 및 전처리\n",
    "def get_excelfile(p_file):\n",
    "\tdf = pd.read_excel(\n",
    "\t\tio = f'./data/{p_file}',\n",
    "\t\tengine=\"openpyxl\",\n",
    "\t\tsheet_name=\"실시간 학생수\",\n",
    "\t\tskiprows=1,\n",
    "\t\tusecols=\"A:D\",\n",
    "\t\tnrows=39\n",
    "\t)\n",
    "\n",
    "\t# '반'칼럼 nan값 삭제\n",
    "\tdf = df.dropna(axis=0, subset=['반'])\n",
    "\n",
    "\t# 이덱스 리셋\n",
    "\tdf = df.reset_index(drop='INDEX')\n",
    "\n",
    "    # 인원 합계\n",
    "\tdf['합계'] = df['남'] + df['여']\n",
    "\treturn df\n",
    "\n",
    "lst_xlsx = read_xlsx_files()"
   ]
  },
  {
   "cell_type": "code",
   "execution_count": 9,
   "id": "f830ebf1",
   "metadata": {},
   "outputs": [
    {
     "data": {
      "text/plain": [
       "['220823.xlsx', '220820.xlsx']"
      ]
     },
     "execution_count": 9,
     "metadata": {},
     "output_type": "execute_result"
    }
   ],
   "source": [
    "lst_xlsx"
   ]
  },
  {
   "cell_type": "code",
   "execution_count": 19,
   "id": "cf45cf90",
   "metadata": {},
   "outputs": [
    {
     "data": {
      "text/html": [
       "<div>\n",
       "<style scoped>\n",
       "    .dataframe tbody tr th:only-of-type {\n",
       "        vertical-align: middle;\n",
       "    }\n",
       "\n",
       "    .dataframe tbody tr th {\n",
       "        vertical-align: top;\n",
       "    }\n",
       "\n",
       "    .dataframe thead th {\n",
       "        text-align: right;\n",
       "    }\n",
       "</style>\n",
       "<table border=\"1\" class=\"dataframe\">\n",
       "  <thead>\n",
       "    <tr style=\"text-align: right;\">\n",
       "      <th></th>\n",
       "      <th>남</th>\n",
       "      <th>여</th>\n",
       "      <th>합계</th>\n",
       "    </tr>\n",
       "    <tr>\n",
       "      <th>학년</th>\n",
       "      <th></th>\n",
       "      <th></th>\n",
       "      <th></th>\n",
       "    </tr>\n",
       "  </thead>\n",
       "  <tbody>\n",
       "    <tr>\n",
       "      <th>1학년</th>\n",
       "      <td>61</td>\n",
       "      <td>60</td>\n",
       "      <td>121</td>\n",
       "    </tr>\n",
       "    <tr>\n",
       "      <th>2학년</th>\n",
       "      <td>55</td>\n",
       "      <td>45</td>\n",
       "      <td>100</td>\n",
       "    </tr>\n",
       "    <tr>\n",
       "      <th>3학년</th>\n",
       "      <td>64</td>\n",
       "      <td>54</td>\n",
       "      <td>118</td>\n",
       "    </tr>\n",
       "    <tr>\n",
       "      <th>4학년</th>\n",
       "      <td>77</td>\n",
       "      <td>67</td>\n",
       "      <td>144</td>\n",
       "    </tr>\n",
       "    <tr>\n",
       "      <th>5학년</th>\n",
       "      <td>72</td>\n",
       "      <td>66</td>\n",
       "      <td>138</td>\n",
       "    </tr>\n",
       "    <tr>\n",
       "      <th>6학년</th>\n",
       "      <td>76</td>\n",
       "      <td>61</td>\n",
       "      <td>137</td>\n",
       "    </tr>\n",
       "  </tbody>\n",
       "</table>\n",
       "</div>"
      ],
      "text/plain": [
       "      남   여   합계\n",
       "학년              \n",
       "1학년  61  60  121\n",
       "2학년  55  45  100\n",
       "3학년  64  54  118\n",
       "4학년  77  67  144\n",
       "5학년  72  66  138\n",
       "6학년  76  61  137"
      ]
     },
     "execution_count": 19,
     "metadata": {},
     "output_type": "execute_result"
    }
   ],
   "source": [
    "df = get_excelfile('220823.xlsx').ffill()\n"
   ]
  },
  {
   "cell_type": "code",
   "execution_count": 37,
   "id": "a68ef66f",
   "metadata": {},
   "outputs": [
    {
     "data": {
      "text/html": [
       "<div>\n",
       "<style scoped>\n",
       "    .dataframe tbody tr th:only-of-type {\n",
       "        vertical-align: middle;\n",
       "    }\n",
       "\n",
       "    .dataframe tbody tr th {\n",
       "        vertical-align: top;\n",
       "    }\n",
       "\n",
       "    .dataframe thead th {\n",
       "        text-align: right;\n",
       "    }\n",
       "</style>\n",
       "<table border=\"1\" class=\"dataframe\">\n",
       "  <thead>\n",
       "    <tr style=\"text-align: right;\">\n",
       "      <th></th>\n",
       "      <th>성별</th>\n",
       "      <th>1학년</th>\n",
       "      <th>2학년</th>\n",
       "      <th>3학년</th>\n",
       "      <th>4학년</th>\n",
       "      <th>5학년</th>\n",
       "      <th>6학년</th>\n",
       "      <th>합계</th>\n",
       "    </tr>\n",
       "  </thead>\n",
       "  <tbody>\n",
       "    <tr>\n",
       "      <th>0</th>\n",
       "      <td>남</td>\n",
       "      <td>61</td>\n",
       "      <td>55</td>\n",
       "      <td>64</td>\n",
       "      <td>77</td>\n",
       "      <td>72</td>\n",
       "      <td>76</td>\n",
       "      <td>405</td>\n",
       "    </tr>\n",
       "    <tr>\n",
       "      <th>1</th>\n",
       "      <td>여</td>\n",
       "      <td>60</td>\n",
       "      <td>45</td>\n",
       "      <td>54</td>\n",
       "      <td>67</td>\n",
       "      <td>66</td>\n",
       "      <td>61</td>\n",
       "      <td>353</td>\n",
       "    </tr>\n",
       "  </tbody>\n",
       "</table>\n",
       "</div>"
      ],
      "text/plain": [
       "  성별  1학년  2학년  3학년  4학년  5학년  6학년   합계\n",
       "0  남   61   55   64   77   72   76  405\n",
       "1  여   60   45   54   67   66   61  353"
      ]
     },
     "execution_count": 37,
     "metadata": {},
     "output_type": "execute_result"
    }
   ],
   "source": [
    "test = df.groupby('학년').sum()\n",
    "\n",
    "test_t = test.T.reset_index()\n",
    "test_t.columns = ['성별', '1학년', '2학년', '3학년', '4학년', '5학년', '6학년']\n",
    "test_t = test_t.drop(index=2)\n",
    "\n",
    "col_list = list(test_t)\n",
    "col_list.remove('성별')\n",
    "test_t['합계'] = test_t[col_list].sum(axis=1)\n",
    "test_t"
   ]
  },
  {
   "cell_type": "code",
   "execution_count": 39,
   "id": "1bf4a26b",
   "metadata": {},
   "outputs": [
    {
     "data": {
      "text/html": [
       "<div>\n",
       "<style scoped>\n",
       "    .dataframe tbody tr th:only-of-type {\n",
       "        vertical-align: middle;\n",
       "    }\n",
       "\n",
       "    .dataframe tbody tr th {\n",
       "        vertical-align: top;\n",
       "    }\n",
       "\n",
       "    .dataframe thead th {\n",
       "        text-align: right;\n",
       "    }\n",
       "</style>\n",
       "<table border=\"1\" class=\"dataframe\">\n",
       "  <thead>\n",
       "    <tr style=\"text-align: right;\">\n",
       "      <th></th>\n",
       "      <th>성별</th>\n",
       "      <th>합계</th>\n",
       "    </tr>\n",
       "  </thead>\n",
       "  <tbody>\n",
       "    <tr>\n",
       "      <th>0</th>\n",
       "      <td>남</td>\n",
       "      <td>405</td>\n",
       "    </tr>\n",
       "    <tr>\n",
       "      <th>1</th>\n",
       "      <td>여</td>\n",
       "      <td>353</td>\n",
       "    </tr>\n",
       "  </tbody>\n",
       "</table>\n",
       "</div>"
      ],
      "text/plain": [
       "  성별   합계\n",
       "0  남  405\n",
       "1  여  353"
      ]
     },
     "execution_count": 39,
     "metadata": {},
     "output_type": "execute_result"
    }
   ],
   "source": [
    "test_t[['성별','합계']]"
   ]
  },
  {
   "cell_type": "code",
   "execution_count": 40,
   "id": "071b6c01",
   "metadata": {},
   "outputs": [
    {
     "data": {
      "text/html": [
       "<div>\n",
       "<style scoped>\n",
       "    .dataframe tbody tr th:only-of-type {\n",
       "        vertical-align: middle;\n",
       "    }\n",
       "\n",
       "    .dataframe tbody tr th {\n",
       "        vertical-align: top;\n",
       "    }\n",
       "\n",
       "    .dataframe thead th {\n",
       "        text-align: right;\n",
       "    }\n",
       "</style>\n",
       "<table border=\"1\" class=\"dataframe\">\n",
       "  <thead>\n",
       "    <tr style=\"text-align: right;\">\n",
       "      <th></th>\n",
       "      <th>성별</th>\n",
       "      <th>1학년</th>\n",
       "      <th>2학년</th>\n",
       "      <th>3학년</th>\n",
       "      <th>4학년</th>\n",
       "      <th>5학년</th>\n",
       "      <th>6학년</th>\n",
       "      <th>합계</th>\n",
       "    </tr>\n",
       "  </thead>\n",
       "  <tbody>\n",
       "    <tr>\n",
       "      <th>0</th>\n",
       "      <td>남</td>\n",
       "      <td>61</td>\n",
       "      <td>55</td>\n",
       "      <td>64</td>\n",
       "      <td>77</td>\n",
       "      <td>72</td>\n",
       "      <td>76</td>\n",
       "      <td>405</td>\n",
       "    </tr>\n",
       "    <tr>\n",
       "      <th>1</th>\n",
       "      <td>여</td>\n",
       "      <td>60</td>\n",
       "      <td>45</td>\n",
       "      <td>54</td>\n",
       "      <td>67</td>\n",
       "      <td>66</td>\n",
       "      <td>61</td>\n",
       "      <td>353</td>\n",
       "    </tr>\n",
       "  </tbody>\n",
       "</table>\n",
       "</div>"
      ],
      "text/plain": [
       "  성별  1학년  2학년  3학년  4학년  5학년  6학년   합계\n",
       "0  남   61   55   64   77   72   76  405\n",
       "1  여   60   45   54   67   66   61  353"
      ]
     },
     "execution_count": 40,
     "metadata": {},
     "output_type": "execute_result"
    }
   ],
   "source": [
    "test_t"
   ]
  },
  {
   "cell_type": "code",
   "execution_count": null,
   "id": "22d707e8",
   "metadata": {},
   "outputs": [],
   "source": []
  }
 ],
 "metadata": {
  "kernelspec": {
   "display_name": "bugok-env",
   "language": "python",
   "name": "bugok-env"
  },
  "language_info": {
   "codemirror_mode": {
    "name": "ipython",
    "version": 3
   },
   "file_extension": ".py",
   "mimetype": "text/x-python",
   "name": "python",
   "nbconvert_exporter": "python",
   "pygments_lexer": "ipython3",
   "version": "3.8.7"
  }
 },
 "nbformat": 4,
 "nbformat_minor": 5
}
